{
 "cells": [
  {
   "cell_type": "code",
   "execution_count": 1,
   "metadata": {},
   "outputs": [
    {
     "name": "stdout",
     "output_type": "stream",
     "text": [
      "Starting server...\n",
      "Server started!\n",
      "Server URL: http://localhost:8080\n"
     ]
    }
   ],
   "source": [
    "#pip install datalabel==0.1.1\n",
    "\n",
    "from labeler import UI\n",
    "\n",
    "test_msgs = ['hello', 'hi', 'test label']\n",
    "\n",
    "ls = UI.LabelService()\n",
    "ls.label(test_msgs)"
   ]
  },
  {
   "cell_type": "code",
   "execution_count": null,
   "metadata": {},
   "outputs": [],
   "source": []
  }
 ],
 "metadata": {
  "kernelspec": {
   "display_name": "labeler",
   "language": "python",
   "name": "python3"
  },
  "language_info": {
   "codemirror_mode": {
    "name": "ipython",
    "version": 3
   },
   "file_extension": ".py",
   "mimetype": "text/x-python",
   "name": "python",
   "nbconvert_exporter": "python",
   "pygments_lexer": "ipython3",
   "version": "3.8.16"
  },
  "orig_nbformat": 4,
  "vscode": {
   "interpreter": {
    "hash": "02c010eeb9ea85f0975793dafed7f96caf6fee739c3ed4ff35fd4bacf3e9ab13"
   }
  }
 },
 "nbformat": 4,
 "nbformat_minor": 2
}
